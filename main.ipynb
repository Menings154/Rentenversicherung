{
 "cells": [
  {
   "attachments": {},
   "cell_type": "markdown",
   "metadata": {},
   "source": [
    "In diesem Projekt will ich die Angebotenen Rentenversicherungen miteinander vergleichen. Die PDF mit den Angeboten liegt in \"C:\\Users\\Benja\\OneDrive\\Desktop\\Ordnerstruktur\\Finanzen\\Privat\\Versicherung\\neue Versicherungen\\Andy\\230604\".\n",
    "\n",
    "Was will ich genau machen:\n",
    "1) Ausrechnen, wie viel Geld ich theoretisch hätte, wenn ich das eingezahlte Geld selbst mit den angegebenen Renditewerten angelegt hätte. Den Betrag dann mit den Kapital CRK Werten vergleichen.\n",
    "2) Den Vergleich machen, wenn ich monatlich etwas von diesem Geld nehme, wie sich dann das Geld im Vergleich zu den Versicherungen ändert.\n",
    "3) Die einzelnen Versicherungen recherchieren und die einzelnen Werte in der PDF recherchieren."
   ]
  }
 ],
 "metadata": {
  "language_info": {
   "name": "python"
  },
  "orig_nbformat": 4
 },
 "nbformat": 4,
 "nbformat_minor": 2
}
