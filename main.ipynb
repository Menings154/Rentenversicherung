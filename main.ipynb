{
 "cells": [
  {
   "attachments": {},
   "cell_type": "markdown",
   "metadata": {},
   "source": [
    "In diesem Projekt will ich die Angebotenen Rentenversicherungen miteinander vergleichen. Die PDF mit den Angeboten liegt in \"C:\\Users\\Benja\\OneDrive\\Desktop\\Ordnerstruktur\\Finanzen\\Privat\\Versicherung\\neue Versicherungen\\Andy\\230604\".\n",
    "\n",
    "Was will ich genau machen:\n",
    "1) Ausrechnen, wie viel Geld ich theoretisch hätte, wenn ich das eingezahlte Geld selbst mit den angegebenen Renditewerten angelegt hätte. Den Betrag dann mit den Kapital CRK Werten vergleichen.\n",
    "2) Den Vergleich machen, wenn ich monatlich etwas von diesem Geld nehme, wie sich dann das Geld im Vergleich zu den Versicherungen ändert.\n",
    "3) Die einzelnen Versicherungen recherchieren und die einzelnen Werte in der PDF recherchieren.\n",
    "4) was ist meine Rentenlücke. (mit Inflation)"
   ]
  },
  {
   "attachments": {},
   "cell_type": "markdown",
   "metadata": {},
   "source": [
    "# 1) Was ich theoretisch erspart hätte.\n",
    "\n",
    "- Annahme: Rendite ist einmal pro Jahr"
   ]
  },
  {
   "cell_type": "markdown",
   "metadata": {},
   "source": []
  },
  {
   "cell_type": "code",
   "execution_count": 7,
   "metadata": {},
   "outputs": [],
   "source": [
    "def kapital(einzahlung: int, rendite: int, jahre: int) -> int:\n",
    "    \"\"\"einzahlung = monatliche einzahlung, rendite = jährliche rendite in prozent, jahre = jahre eingespart\"\"\" \n",
    "    def temp(kapital_zuvor: int, einzahlung: int, rendite: int) -> int:\n",
    "        return (kapital_zuvor + 12*einzahlung) * (1+rendite/100)\n",
    "    \n",
    "    kapital=0\n",
    "    for jahr in range(jahre):\n",
    "        kapital = temp(kapital_zuvor=kapital, einzahlung=einzahlung, rendite=rendite)\n",
    "    return kapital"
   ]
  },
  {
   "cell_type": "code",
   "execution_count": 11,
   "metadata": {},
   "outputs": [
    {
     "data": {
      "text/plain": [
       "114952.00194224031"
      ]
     },
     "execution_count": 11,
     "metadata": {},
     "output_type": "execute_result"
    }
   ],
   "source": [
    "kapital(150, 2, 41)"
   ]
  },
  {
   "attachments": {},
   "cell_type": "markdown",
   "metadata": {},
   "source": [
    "Für eine Rendite von 2% bei 41 Jahren Einsparen:\n",
    " - Volkswohlbund: 91683.00 €\n",
    " - ERGO: 93,349.00 €\n",
    " - Die Continenthale: 93,455.07 €\n",
    " - HDI: 90,989.00 €\n",
    " - SwissLife: 85,612.18 €\n",
    " - ohne: 114,952.00 €\n",
    "\n",
    "Das sind jeweils wie viel Prozent von selbst anlegen:\n",
    " - Volkswohlbund: 79.76 %\n",
    " - ERGO: 81.2 %\n",
    " - Die Continenthale: 81.3 %\n",
    " - HDI: 79.15 %\n",
    " - SwissLife: 74.48 %"
   ]
  },
  {
   "cell_type": "code",
   "execution_count": 12,
   "metadata": {},
   "outputs": [
    {
     "data": {
      "text/plain": [
       "353694.54212246614"
      ]
     },
     "execution_count": 12,
     "metadata": {},
     "output_type": "execute_result"
    }
   ],
   "source": [
    "kapital(150, 6.43, 41)"
   ]
  },
  {
   "attachments": {},
   "cell_type": "markdown",
   "metadata": {},
   "source": [
    "Für eine Rendite von CRK bei 41 Jahren Einsparen:\n",
    " - Volkswohlbund: 302,041.00 €\n",
    " - ERGO: 308,442.00 €\n",
    " - Die Continenthale: 306,927.00 €\n",
    " - HDI: 304,949.00 €\n",
    " - SwissLife: 282,045.84 €\n",
    " - ohne: Zum Vergleich wurde die Durchschnittsrendite des MSCII World genommen, 6.43% (Quelle; \"https://vivetmaximum.de/etf-rendite/\"): 353,694.54 €\n",
    "https://vivetmaximum.de/etf-rendite/\n",
    "\n",
    "Das sind jeweils wie viel Prozent von selbst anlegen:\n",
    " - Volkswohlbund: 85.4 %\n",
    " - ERGO: 87.2 %\n",
    " - Die Continenthale: 86.78 %\n",
    " - HDI: 86.22 %\n",
    " - SwissLife: 79.74 %"
   ]
  },
  {
   "cell_type": "code",
   "execution_count": null,
   "metadata": {},
   "outputs": [],
   "source": []
  },
  {
   "cell_type": "code",
   "execution_count": 10,
   "metadata": {},
   "outputs": [
    {
     "data": {
      "text/plain": [
       "3708.7200000000003"
      ]
     },
     "execution_count": 10,
     "metadata": {},
     "output_type": "execute_result"
    }
   ],
   "source": []
  },
  {
   "cell_type": "code",
   "execution_count": null,
   "metadata": {},
   "outputs": [],
   "source": []
  }
 ],
 "metadata": {
  "kernelspec": {
   "display_name": "Python 3",
   "language": "python",
   "name": "python3"
  },
  "language_info": {
   "codemirror_mode": {
    "name": "ipython",
    "version": 3
   },
   "file_extension": ".py",
   "mimetype": "text/x-python",
   "name": "python",
   "nbconvert_exporter": "python",
   "pygments_lexer": "ipython3",
   "version": "3.10.1"
  },
  "orig_nbformat": 4
 },
 "nbformat": 4,
 "nbformat_minor": 2
}
